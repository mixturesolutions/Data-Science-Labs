{
 "cells": [
  {
   "cell_type": "markdown",
   "id": "f7319a21",
   "metadata": {},
   "source": [
    "## 2.1 Preprocess the raw data"
   ]
  },
  {
   "cell_type": "code",
   "execution_count": 16,
   "id": "ef7502b0",
   "metadata": {},
   "outputs": [
    {
     "name": "stdout",
     "output_type": "stream",
     "text": [
      "Categorical features found in columns: [0, 1, 2, 3, 4, 5, 6, 7, 8, 10, 11, 12]\n"
     ]
    },
    {
     "data": {
      "image/png": "[encoded data removed]",
      "text/plain": [
       "<Figure size 640x480 with 1 Axes>"
      ]
     },
     "metadata": {},
     "output_type": "display_data"
    }
   ],
   "source": [
    "# Check whether there are missing values\n",
    "# Check whether theare are cateogrical features\n",
    "# Check whether this dataset is balanced or not (use the bar plot to visualize the number of positive and negative samples)\n",
    "\n",
    "import numpy as np\n",
    "from sklearn.model_selection import train_test_split\n",
    "from sklearn import datasets\n",
    "from sklearn.preprocessing import StandardScaler\n",
    "from sklearn.linear_model import LogisticRegression\n",
    "from sklearn.metrics import accuracy_score\n",
    "from sklearn.metrics import f1_score\n",
    "from sklearn.metrics import recall_score\n",
    "from sklearn.metrics import precision_score\n",
    "import matplotlib.pyplot as plt\n",
    "from random import shuffle\n",
    "import random\n",
    "random.seed(123)\n",
    "\n",
    "# Load dataset\n",
    "data = np.genfromtxt('heart.csv', delimiter=',', skip_header=1, filling_values=np.nan)\n",
    "\n",
    "# Handle missing values by removing rows with NaN\n",
    "data = data[~np.isnan(data).any(axis=1)]\n",
    "\n",
    "# Extract X and y from the data\n",
    "X = data[:, :-1] \n",
    "y = data[:, -1]  \n",
    "\n",
    "# Check for categorical features\n",
    "categorical_features = []\n",
    "for i in range(X.shape[1]):\n",
    "    unique_values = np.unique(X[:, i])\n",
    "    if np.all(np.mod(unique_values, 1) == 0):  # Check if all unique values are integers\n",
    "        categorical_features.append(i)\n",
    "\n",
    "if categorical_features:\n",
    "    print(\"Categorical features found in columns:\", categorical_features)\n",
    "else:\n",
    "    print(\"No categorical features found.\")\n",
    "\n",
    "# Check if the dataset is balanced\n",
    "y = y.astype(int)\n",
    "class_distribution = np.bincount(y)\n",
    "plt.bar(np.unique(y), class_distribution)\n",
    "plt.xlabel(\"Class\")\n",
    "plt.ylabel(\"Count\")\n",
    "plt.title(\"Class Distribution\")\n",
    "plt.show()"
   ]
  },
  {
   "cell_type": "markdown",
   "id": "ffabdc2d",
   "metadata": {},
   "source": [
    "## 2.2 Split the data into two subsets and normalize the features of samples"
   ]
  },
  {
   "cell_type": "code",
   "execution_count": 17,
   "id": "c16c3ce3",
   "metadata": {},
   "outputs": [
    {
     "name": "stdout",
     "output_type": "stream",
     "text": [
      "train_val: 266, test: 37\n"
     ]
    }
   ],
   "source": [
    "#Split the dataset into the train_val set and testing set.\n",
    "X_train_val, X_test, y_train_val, y_test = train_test_split(X, y, \n",
    "                                                            test_size=0.12, \n",
    "                                                            random_state=0)\n",
    "print(\"train_val: {}, test: {}\".format(X_train_val.shape[0], X_test.shape[0]))\n",
    "\n",
    "#Normalize features\n",
    "normalizer = StandardScaler()\n",
    "X_train_val = normalizer.fit_transform(X_train_val)\n",
    "X_test = normalizer.transform(X_test)"
   ]
  },
  {
   "cell_type": "markdown",
   "id": "070591d3",
   "metadata": {},
   "source": [
    "## 2.3 Train the logistic regression model and select the hyperparameter with cross-validation"
   ]
  },
  {
   "cell_type": "code",
   "execution_count": 25,
   "id": "31c959c6",
   "metadata": {},
   "outputs": [
    {
     "name": "stdout",
     "output_type": "stream",
     "text": [
      "[array([ 42, 112,  75,  28, 188,  76, 245, 241, 113, 260, 103,  36, 201,\n",
      "       214, 208, 164, 199,  51, 215, 124,  95, 107,  98,  53, 174, 225,\n",
      "       219]), array([247,  81,  39,  37, 222, 177,  87,  60, 183, 121,  64, 135, 233,\n",
      "        71,  59, 244, 189,  38, 246, 168, 165, 254,  12,  49,  24, 251,\n",
      "       226]), array([ 40, 115, 110,  58,   3, 162,  26,  33,  52, 249,  19, 118, 163,\n",
      "         2, 187,  84, 119, 172, 261, 250, 160,  54, 206, 182, 234,  23,\n",
      "       248]), array([205,  61, 100, 236, 257, 184, 129, 217,  96, 203,   0,  88, 148,\n",
      "         5, 102,  20, 252, 114, 259, 207, 157,  22, 144, 242, 152,   6,\n",
      "       111]), array([181, 116, 197, 190,   9, 180, 255, 109, 154, 101, 229, 175,  90,\n",
      "       193,  80, 178, 173, 212, 128, 134, 194,  31,  30, 151,  70,  17,\n",
      "       141]), array([ 74,  35,  97, 243,  14, 125, 145, 240, 108,  89, 126, 220,  57,\n",
      "       235, 143, 211, 224, 120,  63, 263, 131, 191,  65,  83,  45, 149,\n",
      "       171]), array([ 29, 202, 153, 170, 227,  82,  94, 216, 265, 161,  34, 123,  50,\n",
      "         8, 230, 200,  86,  13, 127, 158, 196, 195, 231,   4,  62, 256]), array([204, 147, 210,  48, 142,  46, 159,  69, 106, 139,  85,  67, 223,\n",
      "        32, 209, 132, 117, 156, 176, 130, 136,  11,  55, 228,  18,  66]), array([ 21, 186,  91,  15, 138,  16, 167,   7,  99,  72,  73,  77,  10,\n",
      "       140, 264, 122, 133,  43, 137, 262,  41, 146,  68, 192, 150,  93]), array([169,  79,  56,  25, 238, 237, 166, 155, 258, 104, 232,   1, 213,\n",
      "       218, 179,  27, 105, 185,  44, 221,  47,  92,  78, 198, 253, 239])]\n",
      "reg_coeff: 99999.99999999999, acc: 0.556\n",
      "reg_coeff: 10000.0, acc: 0.556\n",
      "reg_coeff: 1000.0, acc: 0.687\n",
      "reg_coeff: 100.0, acc: 0.834\n",
      "reg_coeff: 10.0, acc: 0.826\n",
      "reg_coeff: 1.0, acc: 0.819\n",
      "reg_coeff: 0.1, acc: 0.826\n",
      "reg_coeff: 0.05, acc: 0.826\n",
      "reg_coeff: 0.02, acc: 0.826\n",
      "reg_coeff: 0.01, acc: 0.826\n"
     ]
    }
   ],
   "source": [
    "# here we use 10-fold cross-validation\n",
    "folds = 10\n",
    "\n",
    "# get the number of samples in the training and validation set\n",
    "num_train_val = X_train_val.shape[0] \n",
    "\n",
    "# shuffle the index of samples in the train_val set\n",
    "index_of_samples = np.arange(num_train_val) \n",
    "shuffle(index_of_samples)\n",
    "\n",
    "# calculate the number of samples per fold and the remainder\n",
    "samples_per_fold = num_train_val // folds\n",
    "remainder = num_train_val % folds\n",
    "\n",
    "# split the index of the train_valid set into 10 folds\n",
    "index_of_folds = []\n",
    "start = 0\n",
    "for fold in range(folds):\n",
    "    fold_size = samples_per_fold + 1 if fold < remainder else samples_per_fold\n",
    "    end = start + fold_size\n",
    "    index_of_folds.append(index_of_samples[start:end])\n",
    "    start = end\n",
    "\n",
    "print(index_of_folds)\n",
    "\n",
    "# potential hyperparameters. \n",
    "#These hyperparameters are just used for illustration. \n",
    "#You should try more hyperparameters to get a good model.\n",
    "#The hyperparameters must be nonnegative!\n",
    "regularization_coefficient = [0.00001, 0.0001, 0.001, 0.01, 0.1, 1, 10, 20, 50, 100]\n",
    "\n",
    "best_acc = 0.0\n",
    "best_reg = 0.0\n",
    "\n",
    "for reg in regularization_coefficient:\n",
    "    \n",
    "    # 10-fold cross-validation\n",
    "    sum_acc = 0.0\n",
    "    for fold in range(folds):\n",
    "        \n",
    "        index_of_folds_temp = index_of_folds.copy()\n",
    "        \n",
    "        valid_index = index_of_folds_temp[fold].reshape(-1) #get the index of the validation set\n",
    "        train_index = np.concatenate([index_of_folds_temp[i] for i in range(folds) if i != fold]) #get the index of the training set\n",
    "        \n",
    "        # training set\n",
    "        X_train = X_train_val[train_index]\n",
    "        y_train = y_train_val[train_index]\n",
    "        \n",
    "        # validation set\n",
    "        X_valid = X_train_val[valid_index]\n",
    "        y_valid = y_train_val[valid_index]\n",
    "                \n",
    "        # build the model with different hyperparameters\n",
    "        clf = LogisticRegression(penalty='l2', C=reg, solver='lbfgs')\n",
    "        \n",
    "        #train the model with the training set\n",
    "        clf.fit(X_train, y_train)\n",
    "        \n",
    "        y_valid_pred = clf.predict(X_valid)\n",
    "        acc = accuracy_score(y_valid, y_valid_pred)\n",
    "        \n",
    "        sum_acc += acc\n",
    "    \n",
    "    cur_acc = sum_acc / folds\n",
    "    \n",
    "    print(\"reg_coeff: {}, acc: {:.3f}\".format(1.0/reg, cur_acc))\n",
    "    \n",
    "    # store the best hyperparameter\n",
    "    if cur_acc > best_acc:\n",
    "        best_acc = cur_acc\n",
    "        best_reg = reg"
   ]
  },
  {
   "cell_type": "markdown",
   "id": "4f00a998",
   "metadata": {},
   "source": [
    "## 2.4 Evaluate the learned model"
   ]
  },
  {
   "cell_type": "code",
   "execution_count": 42,
   "id": "7404da7b",
   "metadata": {},
   "outputs": [
    {
     "name": "stdout",
     "output_type": "stream",
     "text": [
      "accuracy: 0.757, recall: 0.882, precision: 0.682, f1: 0.769,\n"
     ]
    },
    {
     "data": {
      "image/png": "[encoded data removed]",
      "text/plain": [
       "<Figure size 1000x600 with 1 Axes>"
      ]
     },
     "metadata": {},
     "output_type": "display_data"
    }
   ],
   "source": [
    "# retrain the model\n",
    "clf = LogisticRegression(penalty='l2', C=best_reg, solver='lbfgs')\n",
    "clf.fit(X_train_val, y_train_val)\n",
    "\n",
    "# evaluate the model on the testing set\n",
    "y_test_pred = clf.predict(X_test)\n",
    "\n",
    "\n",
    "acc = accuracy_score(y_test, y_test_pred)\n",
    "f1 = f1_score(y_test, y_test_pred)\n",
    "recall = recall_score(y_test, y_test_pred)\n",
    "precision = precision_score(y_test, y_test_pred)\n",
    "\n",
    "\n",
    "print(\"accuracy: {:.3f}, recall: {:.3f}, precision: {:.3f}, f1: {:.3f},\".format(acc, recall, precision, f1))\n",
    "\n",
    "#Use the bar plot to visulaize the elements of the learned model parameter vector w. Some elements have larger absolute values, while the others do not. Try to explain this phenomenon.\n",
    "w = clf.coef_[0]\n",
    "\n",
    "# Plot the absolute values of the model parameters\n",
    "plt.figure(figsize=(10, 6))\n",
    "plt.bar(range(len(w)), abs(w))\n",
    "plt.xlabel('Parameter Index')\n",
    "plt.ylabel('Absolute Value of Parameter')\n",
    "plt.title('Absolute Values of Model Parameters')\n",
    "plt.show()"
   ]
  },
  {
   "cell_type": "code",
   "execution_count": null,
   "id": "84545aaf",
   "metadata": {},
   "outputs": [],
   "source": []
  }
 ],
 "metadata": {
  "kernelspec": {
   "display_name": "Python 3 (ipykernel)",
   "language": "python",
   "name": "python3"
  },
  "language_info": {
   "codemirror_mode": {
    "name": "ipython",
    "version": 3
   },
   "file_extension": ".py",
   "mimetype": "text/x-python",
   "name": "python",
   "nbconvert_exporter": "python",
   "pygments_lexer": "ipython3",
   "version": "3.11.5"
  }
 },
 "nbformat": 4,
 "nbformat_minor": 5
}
