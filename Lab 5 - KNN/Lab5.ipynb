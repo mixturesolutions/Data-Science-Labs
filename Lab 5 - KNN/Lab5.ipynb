{
 "cells": [
  {
   "cell_type": "markdown",
   "id": "02dcafaf-4146-4638-9252-21dbc7177e07",
   "metadata": {},
   "source": [
    "## 2.1 Preprocess the raw data"
   ]
  },
  {
   "cell_type": "code",
   "execution_count": 6,
   "id": "c05b99fc-daec-452c-8f5b-9569039f3aa8",
   "metadata": {},
   "outputs": [
    {
     "name": "stdout",
     "output_type": "stream",
     "text": [
      "Categorical features found in columns: [0, 1, 2, 3, 4, 5, 6, 7, 8, 10, 11, 12]\n"
     ]
    },
    {
     "data": {
      "image/png": "[encoded data removed]",
      "text/plain": [
       "<Figure size 640x480 with 1 Axes>"
      ]
     },
     "metadata": {},
     "output_type": "display_data"
    }
   ],
   "source": [
    "import numpy as np\n",
    "from sklearn.model_selection import train_test_split\n",
    "from sklearn import datasets\n",
    "from sklearn.preprocessing import StandardScaler\n",
    "from sklearn.model_selection import GridSearchCV\n",
    "from sklearn.neighbors import KNeighborsClassifier\n",
    "from sklearn.metrics import accuracy_score, f1_score\n",
    "from sklearn.metrics import f1_score\n",
    "from sklearn.metrics import recall_score\n",
    "from sklearn.metrics import precision_score\n",
    "import matplotlib.pyplot as plt\n",
    "from random import shuffle\n",
    "import random\n",
    "random.seed(123)\n",
    "\n",
    "# Load dataset\n",
    "data = np.genfromtxt('heart.csv', delimiter=',', skip_header=1, filling_values=np.nan)\n",
    "\n",
    "# Handle missing values by removing rows with NaN\n",
    "data = data[~np.isnan(data).any(axis=1)]\n",
    "\n",
    "# Extract X and y from the data\n",
    "X = data[:, :-1] \n",
    "y = data[:, -1]  \n",
    "\n",
    "# Check for categorical features\n",
    "categorical_features = []\n",
    "for i in range(X.shape[1]):\n",
    "    unique_values = np.unique(X[:, i])\n",
    "    if np.all(np.mod(unique_values, 1) == 0):  # Check if all unique values are integers\n",
    "        categorical_features.append(i)\n",
    "\n",
    "if categorical_features:\n",
    "    print(\"Categorical features found in columns:\", categorical_features)\n",
    "else:\n",
    "    print(\"No categorical features found.\")\n",
    "\n",
    "# Check if the dataset is balanced\n",
    "y = y.astype(int)\n",
    "class_distribution = np.bincount(y)\n",
    "plt.bar(np.unique(y), class_distribution)\n",
    "plt.xlabel(\"Class\")\n",
    "plt.ylabel(\"Count\")\n",
    "plt.title(\"Class Distribution\")\n",
    "plt.show()"
   ]
  },
  {
   "cell_type": "markdown",
   "id": "44751429-19f7-41ac-9052-d0e7e65ff0e2",
   "metadata": {},
   "source": [
    "## 2.2 Split the data into two subsets and normalize the features of samples"
   ]
  },
  {
   "cell_type": "code",
   "execution_count": 7,
   "id": "c11f4a3f-f7b1-49fb-958d-d9c135162361",
   "metadata": {},
   "outputs": [
    {
     "name": "stdout",
     "output_type": "stream",
     "text": [
      "train_val: 266, test: 37\n"
     ]
    }
   ],
   "source": [
    "#Split the dataset into the train_val set and testing set.\n",
    "X_train_val, X_test, y_train_val, y_test = train_test_split(X, y, \n",
    "                                                            test_size=0.12, \n",
    "                                                            random_state=0)\n",
    "print(\"train_val: {}, test: {}\".format(X_train_val.shape[0], X_test.shape[0]))\n",
    "\n",
    "#Normalize features\n",
    "normalizer = StandardScaler()\n",
    "X_train_val = normalizer.fit_transform(X_train_val)\n",
    "X_test = normalizer.transform(X_test)"
   ]
  },
  {
   "cell_type": "markdown",
   "id": "5159e3a7-531f-4640-a18f-8ec0ffedd050",
   "metadata": {},
   "source": [
    "## 2.3 Train the KNN model and select the hyperparameter with cross-validation"
   ]
  },
  {
   "cell_type": "code",
   "execution_count": 8,
   "id": "00f90fd0-5626-4b45-828d-4788e9ae5b30",
   "metadata": {},
   "outputs": [
    {
     "name": "stdout",
     "output_type": "stream",
     "text": [
      "0.8194269741439554\n",
      "{'n_neighbors': 3}\n"
     ]
    }
   ],
   "source": [
    "k_range = range(1, 5)\n",
    "param_grid = dict(n_neighbors=k_range)\n",
    "\n",
    "clf_knn =  KNeighborsClassifier(n_neighbors=1)\n",
    "\n",
    "grid = GridSearchCV(clf_knn, param_grid, cv=5, scoring='accuracy')\n",
    "grid.fit(X_train_val, y_train_val)\n",
    "\n",
    "print(grid.best_score_)\n",
    "print(grid.best_params_)"
   ]
  },
  {
   "cell_type": "markdown",
   "id": "b535782b-19bb-4fe7-a193-57bbf60b790c",
   "metadata": {},
   "source": [
    "## 2.4 Evaluate the learned model"
   ]
  },
  {
   "cell_type": "code",
   "execution_count": 10,
   "id": "93241abe-6a39-4966-b264-62acc3320b17",
   "metadata": {},
   "outputs": [
    {
     "name": "stdout",
     "output_type": "stream",
     "text": [
      "accuracy: 0.838, recall: 0.824, precision: 0.824, f1: 0.824,\n"
     ]
    }
   ],
   "source": [
    "clf_knn =  KNeighborsClassifier(n_neighbors=grid.best_params_['n_neighbors'])\n",
    "clf_knn.fit(X_train_val, y_train_val)\n",
    "\n",
    "# evaluate the model on the testing set\n",
    "y_test_pred = clf_knn.predict(X_test)\n",
    "\n",
    "\n",
    "# Implementation of evaluation metrics\n",
    "def accuracyScore(y_true, y_pred):\n",
    "    correct = sum(y_true == y_pred)\n",
    "    total = len(y_true)\n",
    "    return correct / total\n",
    "\n",
    "def recallScore(y_true, y_pred):\n",
    "    true_positives = sum((y_true == 1) & (y_pred == 1))\n",
    "    actual_positives = sum(y_true == 1)\n",
    "    return true_positives / actual_positives if actual_positives != 0 else 0\n",
    "\n",
    "def precisionScore(y_true, y_pred):\n",
    "    true_positives = sum((y_true == 1) & (y_pred == 1))\n",
    "    predicted_positives = sum(y_pred == 1)\n",
    "    return true_positives / predicted_positives if predicted_positives != 0 else 0\n",
    "\n",
    "def f1Score(y_true, y_pred):\n",
    "    precision = precision_score(y_true, y_pred)\n",
    "    recall = recall_score(y_true, y_pred)\n",
    "    return 2 * (precision * recall) / (precision + recall) if (precision + recall) != 0 else 0\n",
    "\n",
    "acc = accuracyScore(y_test, y_test_pred)\n",
    "f1 = f1Score(y_test, y_test_pred)\n",
    "recall = recallScore(y_test, y_test_pred)\n",
    "precision = precisionScore(y_test, y_test_pred)\n",
    "\n",
    "\n",
    "print(\"accuracy: {:.3f}, recall: {:.3f}, precision: {:.3f}, f1: {:.3f},\".format(acc, recall, precision, f1))"
   ]
  },
  {
   "cell_type": "code",
   "execution_count": null,
   "id": "6fc4242b-c53c-4569-9456-3116a7072381",
   "metadata": {},
   "outputs": [],
   "source": []
  }
 ],
 "metadata": {
  "kernelspec": {
   "display_name": "Python 3 (ipykernel)",
   "language": "python",
   "name": "python3"
  },
  "language_info": {
   "codemirror_mode": {
    "name": "ipython",
    "version": 3
   },
   "file_extension": ".py",
   "mimetype": "text/x-python",
   "name": "python",
   "nbconvert_exporter": "python",
   "pygments_lexer": "ipython3",
   "version": "3.11.5"
  }
 },
 "nbformat": 4,
 "nbformat_minor": 5
}
