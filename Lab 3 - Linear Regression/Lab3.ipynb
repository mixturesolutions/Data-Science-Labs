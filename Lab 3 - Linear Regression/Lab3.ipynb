{
 "cells": [
  {
   "cell_type": "markdown",
   "id": "3edea8b2",
   "metadata": {},
   "source": [
    "## 2.1 Preprocess the raw data"
   ]
  },
  {
   "cell_type": "code",
   "execution_count": 4,
   "id": "572f6906",
   "metadata": {},
   "outputs": [
    {
     "name": "stdout",
     "output_type": "stream",
     "text": [
      "age         0\n",
      "sex         0\n",
      "bmi         0\n",
      "children    0\n",
      "smoker      0\n",
      "region      0\n",
      "charges     0\n",
      "dtype: int64\n",
      "<class 'pandas.core.frame.DataFrame'>\n",
      "RangeIndex: 1338 entries, 0 to 1337\n",
      "Data columns (total 7 columns):\n",
      " #   Column    Non-Null Count  Dtype  \n",
      "---  ------    --------------  -----  \n",
      " 0   age       1338 non-null   int64  \n",
      " 1   sex       1338 non-null   int64  \n",
      " 2   bmi       1338 non-null   float64\n",
      " 3   children  1338 non-null   int64  \n",
      " 4   smoker    1338 non-null   int64  \n",
      " 5   region    1338 non-null   int64  \n",
      " 6   charges   1338 non-null   float64\n",
      "dtypes: float64(2), int64(5)\n",
      "memory usage: 73.3 KB\n",
      "None\n"
     ]
    }
   ],
   "source": [
    "import pandas as pd\n",
    "import numpy as np\n",
    "from sklearn.preprocessing import LabelEncoder\n",
    "from sklearn.model_selection import train_test_split\n",
    "from sklearn.preprocessing import StandardScaler\n",
    "from sklearn.linear_model import LinearRegression, Ridge, Lasso\n",
    "from sklearn.metrics import mean_absolute_error,mean_squared_error\n",
    "import matplotlib.pyplot as plt\n",
    "\n",
    "df = pd.read_csv('insurance.csv')\n",
    "print(df.isnull().sum()) #There is no missing values to fill in\n",
    "\n",
    "# 1. convert categorical features to numerical values\n",
    "labelencoder = LabelEncoder()\n",
    "df['sex'] = labelencoder.fit_transform(df['sex'])\n",
    "df['region'] = labelencoder.fit_transform(df['region'])\n",
    "df['smoker'] = labelencoder.fit_transform(df['smoker'])\n",
    "print(df.info())"
   ]
  },
  {
   "cell_type": "markdown",
   "id": "cbaeb03e",
   "metadata": {},
   "source": [
    "## 2.2 Split the preprocessed dataset into training set and testing set"
   ]
  },
  {
   "cell_type": "code",
   "execution_count": 5,
   "id": "31b00d9b",
   "metadata": {},
   "outputs": [
    {
     "name": "stdout",
     "output_type": "stream",
     "text": [
      "(1070, 6)\n",
      "(268, 6)\n"
     ]
    }
   ],
   "source": [
    "# 2. split samples\n",
    "insurance_fea = df.drop('charges', axis=1).values\n",
    "insurance_price = df['charges'].values\n",
    "insurance_price = insurance_price / np.max(insurance_price)\n",
    "\n",
    "X_train,X_test,y_train,y_test = train_test_split(insurance_fea,\n",
    "                                                 insurance_price,\n",
    "                                                 test_size=0.2,\n",
    "                                                 random_state=42)\n",
    "print(X_train.shape)\n",
    "print(X_test.shape)\n",
    "\n",
    "\n",
    "# normalize features\n",
    "normalizer = StandardScaler()\n",
    "X_train = normalizer.fit_transform(X_train)\n",
    "X_test = normalizer.transform(X_test)"
   ]
  },
  {
   "cell_type": "markdown",
   "id": "f32fd544",
   "metadata": {},
   "source": [
    "## 2.3 Train the linear regression model"
   ]
  },
  {
   "cell_type": "code",
   "execution_count": 6,
   "id": "d3cf88f5",
   "metadata": {},
   "outputs": [
    {
     "name": "stdout",
     "output_type": "stream",
     "text": [
      "bias is 0.20928336460705027\n",
      "coefficients  is [ 5.67051024e-02 -1.47293258e-04  3.18064131e-02  8.10191467e-03\n",
      "  1.49867951e-01 -4.74182139e-03]\n",
      "prediction for training set:\n",
      "MAE is: 0.06599864797091508\n",
      "MSE is: 0.00916737434945697\n",
      "RMSE is: 0.09574640645714579\n"
     ]
    }
   ],
   "source": [
    "#3. train the model\n",
    "lr = LinearRegression()\n",
    "\n",
    "lr.fit(X_train,y_train)\n",
    "\n",
    "print(\"bias is \"+str(lr.intercept_))\n",
    "print(\"coefficients  is \"+str(lr.coef_))\n",
    "\n",
    "y_train_pred = lr.predict(X_train)\n",
    "\n",
    "mae = mean_absolute_error(y_train_pred,y_train)\n",
    "mse = mean_squared_error(y_train_pred,y_train)\n",
    "rmse = np.sqrt(mse)\n",
    "\n",
    "print('prediction for training set:')\n",
    "print('MAE is: {}'.format(mae))\n",
    "print('MSE is: {}'.format(mse))\n",
    "print('RMSE is: {}'.format(rmse))"
   ]
  },
  {
   "cell_type": "markdown",
   "id": "3391d6d8",
   "metadata": {},
   "source": [
    "## 2.4 Evaluate the linear regression model"
   ]
  },
  {
   "cell_type": "code",
   "execution_count": 7,
   "id": "ec721a1d",
   "metadata": {},
   "outputs": [
    {
     "name": "stdout",
     "output_type": "stream",
     "text": [
      "prediction for testing set:\n",
      "MAE is: 0.06564969107169769\n",
      "MSE is: 0.008270951713078177\n",
      "RMSE is: 0.09094477287386107\n"
     ]
    },
    {
     "data": {
      "image/png": "[encoded data removed]",
      "text/plain": [
       "<Figure size 640x480 with 1 Axes>"
      ]
     },
     "metadata": {},
     "output_type": "display_data"
    }
   ],
   "source": [
    "#4. evaluate the model\n",
    "y_test_pred = lr.predict(X_test)\n",
    "\n",
    "mae = mean_absolute_error(y_test_pred,y_test)\n",
    "mse = mean_squared_error(y_test_pred,y_test)\n",
    "rmse = np.sqrt(mse)\n",
    "\n",
    "print('prediction for testing set:')\n",
    "print('MAE is: {}'.format(mae))\n",
    "print('MSE is: {}'.format(mse))\n",
    "print('RMSE is: {}'.format(rmse))\n",
    "\n",
    "\n",
    "labels = ['Charge1', 'Charge2', 'Charge3', 'Charge4', 'Charge5']\n",
    "x = np.arange(len(labels))  # the label locations\n",
    "width = 0.35  # the width of the bars\n",
    "\n",
    "fig, ax = plt.subplots()\n",
    "rects1 = ax.bar(x - width/2, y_test[0:5], width, label='ground truth')\n",
    "rects2 = ax.bar(x + width/2, y_test_pred[0:5], width, label='prediction')\n",
    "\n",
    "ax.set_ylabel('Charges')\n",
    "ax.set_xticks(x)\n",
    "ax.set_xticklabels(labels)\n",
    "ax.legend()\n",
    "\n",
    "plt.show()"
   ]
  },
  {
   "cell_type": "markdown",
   "id": "e3391f1e",
   "metadata": {},
   "source": [
    "## 2.5 Use the ridge regression model to do prediction"
   ]
  },
  {
   "cell_type": "code",
   "execution_count": 9,
   "id": "193019f1",
   "metadata": {},
   "outputs": [
    {
     "name": "stdout",
     "output_type": "stream",
     "text": [
      "Mean Squared Error (MSE) for Ridge Regression: 0.008272576669548306\n",
      "Mean Squared Error (MSE) for Standard Linear Regression: 0.008270951713078177\n"
     ]
    }
   ],
   "source": [
    "#2.5.1 Compare its performance on the testing set with that of the standard linear regression model\n",
    "\n",
    "# Train the Ridge regression model\n",
    "ridge_model = Ridge(alpha=1.0)  # You can adjust the alpha parameter as needed\n",
    "ridge_model.fit(X_train, y_train)\n",
    "\n",
    "# Predictions using the Ridge regression model\n",
    "ridge_predictions = ridge_model.predict(X_test)\n",
    "\n",
    "# Calculate Mean Squared Error (MSE) for the Ridge regression model\n",
    "ridge_mse = mean_squared_error(y_test, ridge_predictions)\n",
    "\n",
    "# Compare the performance\n",
    "print(\"Mean Squared Error (MSE) for Ridge Regression:\", ridge_mse)\n",
    "print(\"Mean Squared Error (MSE) for Standard Linear Regression:\", lr_mse)"
   ]
  },
  {
   "cell_type": "code",
   "execution_count": 11,
   "id": "5629d84c",
   "metadata": {},
   "outputs": [
    {
     "name": "stdout",
     "output_type": "stream",
     "text": [
      "Alpha: 0.001 MSE: 0.0082709533138101\n",
      "Alpha: 0.01 MSE: 0.00827096772258419\n",
      "Alpha: 0.1 MSE: 0.008271112026766074\n",
      "Alpha: 1.0 MSE: 0.008272576669548306\n",
      "Alpha: 10.0 MSE: 0.008289340687239471\n"
     ]
    }
   ],
   "source": [
    "# 2.5.2 Use different *lamda* to see how it affects the performance of the ridge regression model on the testing set\n",
    "\n",
    "# Define a range of different alpha values to try\n",
    "alpha_values = [0.001, 0.01, 0.1, 1.0, 10.0]\n",
    "\n",
    "# Initialize lists to store MSE values for each alpha\n",
    "mse_values = []\n",
    "\n",
    "# Iterate over each alpha value\n",
    "for alpha in alpha_values:\n",
    "    # Train the Ridge regression model\n",
    "    ridge_model = Ridge(alpha=alpha)\n",
    "    ridge_model.fit(X_train, y_train)\n",
    "\n",
    "    # Predictions using the Ridge regression model\n",
    "    ridge_predictions = ridge_model.predict(X_test)\n",
    "\n",
    "    ridge_mse = mean_squared_error(y_test, ridge_predictions)\n",
    "    \n",
    "    # Append MSE value to the list\n",
    "    mse_values.append(ridge_mse)\n",
    "\n",
    "# Print the MSE values for different alpha values\n",
    "for alpha, mse in zip(alpha_values, mse_values):\n",
    "    print(\"Alpha:\", alpha, \"MSE:\", mse)"
   ]
  },
  {
   "cell_type": "code",
   "execution_count": null,
   "id": "5c0a3934",
   "metadata": {},
   "outputs": [],
   "source": []
  }
 ],
 "metadata": {
  "kernelspec": {
   "display_name": "Python 3 (ipykernel)",
   "language": "python",
   "name": "python3"
  },
  "language_info": {
   "codemirror_mode": {
    "name": "ipython",
    "version": 3
   },
   "file_extension": ".py",
   "mimetype": "text/x-python",
   "name": "python",
   "nbconvert_exporter": "python",
   "pygments_lexer": "ipython3",
   "version": "3.11.5"
  }
 },
 "nbformat": 4,
 "nbformat_minor": 5
}
