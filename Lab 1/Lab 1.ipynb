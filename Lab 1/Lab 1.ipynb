{
 "cells": [
  {
   "cell_type": "markdown",
   "id": "0d0e9e17",
   "metadata": {},
   "source": [
    "# Part 1. Python Basics"
   ]
  },
  {
   "cell_type": "raw",
   "id": "08b48ad2",
   "metadata": {},
   "source": [
    "1+2. create and access a list"
   ]
  },
  {
   "cell_type": "code",
   "execution_count": 1,
   "id": "a11f8cc5",
   "metadata": {},
   "outputs": [
    {
     "name": "stdout",
     "output_type": "stream",
     "text": [
      "Cat\n",
      "Dog\n",
      "Pigeon\n"
     ]
    }
   ],
   "source": [
    "myList = [\"Cat\", \"Dog\", \"Pigeon\"]\n",
    "print(myList[0])\n",
    "print(myList[1])\n",
    "print(myList[-1])"
   ]
  },
  {
   "cell_type": "raw",
   "id": "96578548",
   "metadata": {},
   "source": [
    "3. append, insert, and extend items"
   ]
  },
  {
   "cell_type": "code",
   "execution_count": 2,
   "id": "759b03d7",
   "metadata": {},
   "outputs": [
    {
     "name": "stdout",
     "output_type": "stream",
     "text": [
      "['Cat', 'Dog', 'Pigeon', 'Horse']\n",
      "['Cat', 'Dog', 'Fish', 'Pigeon', 'Horse']\n",
      "['Cat', 'Dog', 'Fish', 'Pigeon', 'Horse', 'Math', 'English', 'History']\n"
     ]
    }
   ],
   "source": [
    "myList.append(\"Horse\")\n",
    "print(myList)\n",
    "\n",
    "myList.insert(2, \"Fish\")\n",
    "print(myList)\n",
    "\n",
    "newList = [\"Math\", \"English\", \"History\"]\n",
    "myList.extend(newList)\n",
    "print(myList)"
   ]
  },
  {
   "cell_type": "raw",
   "id": "1d775256",
   "metadata": {},
   "source": [
    "4. Remove and loop through a list"
   ]
  },
  {
   "cell_type": "code",
   "execution_count": 3,
   "id": "72fb9f97",
   "metadata": {},
   "outputs": [
    {
     "name": "stdout",
     "output_type": "stream",
     "text": [
      "['Cat', 'Dog', 'Fish', 'Pigeon', 'Math', 'English', 'History']\n",
      "Cat\n",
      "Dog\n",
      "Fish\n",
      "Pigeon\n",
      "Math\n",
      "English\n",
      "History\n"
     ]
    }
   ],
   "source": [
    "myList.remove(\"Horse\")\n",
    "\n",
    "print(myList)\n",
    "for x in myList:\n",
    "    print(x)"
   ]
  },
  {
   "cell_type": "raw",
   "id": "4c140bbe",
   "metadata": {},
   "source": [
    "5. Creating a tuple"
   ]
  },
  {
   "cell_type": "code",
   "execution_count": 4,
   "id": "783bc257",
   "metadata": {},
   "outputs": [
    {
     "name": "stdout",
     "output_type": "stream",
     "text": [
      "('Time', 'is', 'Essential', '!')\n"
     ]
    }
   ],
   "source": [
    "myTuple = (\"Time\", \"is\", \"Essential\", \"!\")\n",
    "print(myTuple)"
   ]
  },
  {
   "cell_type": "raw",
   "id": "11a65bba",
   "metadata": {},
   "source": [
    "6. Accessing and unpacking values"
   ]
  },
  {
   "cell_type": "code",
   "execution_count": 8,
   "id": "b0f3e887",
   "metadata": {},
   "outputs": [
    {
     "name": "stdout",
     "output_type": "stream",
     "text": [
      "Time\n",
      "!\n",
      "('is', 'Essential', '!')\n",
      "Time\n",
      "!\n"
     ]
    }
   ],
   "source": [
    "print(myTuple[0])\n",
    "print(myTuple[-1])\n",
    "print(myTuple[1:4])\n",
    "\n",
    "(happy, sad, bored, interested) = myTuple\n",
    "print(happy)\n",
    "print(interested)"
   ]
  },
  {
   "cell_type": "raw",
   "id": "560bbc80",
   "metadata": {},
   "source": [
    "7. Looping through a tuple"
   ]
  },
  {
   "cell_type": "code",
   "execution_count": 9,
   "id": "e001e460",
   "metadata": {},
   "outputs": [
    {
     "name": "stdout",
     "output_type": "stream",
     "text": [
      "Time\n",
      "is\n",
      "Essential\n",
      "!\n"
     ]
    }
   ],
   "source": [
    "for i in range(len(myTuple)):\n",
    "    print(myTuple[i])"
   ]
  },
  {
   "cell_type": "raw",
   "id": "97d08e36",
   "metadata": {},
   "source": [
    "8. Creating a dictionary"
   ]
  },
  {
   "cell_type": "code",
   "execution_count": 12,
   "id": "86577878",
   "metadata": {},
   "outputs": [
    {
     "name": "stdout",
     "output_type": "stream",
     "text": [
      "{'Flavor': 'Strawberry', 'Format': 'Cone', '# of scoops': 3}\n",
      "Strawberry\n"
     ]
    }
   ],
   "source": [
    "myDict = {\n",
    "    \"Flavor\" : \"Strawberry\",\n",
    "    \"Format\" : \"Cone\",\n",
    "    \"# of scoops\" : 3\n",
    "    }\n",
    "print(myDict)\n",
    "print(myDict[\"Flavor\"])"
   ]
  },
  {
   "cell_type": "raw",
   "id": "157a3fe6",
   "metadata": {},
   "source": [
    "9. Accessing a dictionary"
   ]
  },
  {
   "cell_type": "code",
   "execution_count": 13,
   "id": "07b1667b",
   "metadata": {},
   "outputs": [
    {
     "name": "stdout",
     "output_type": "stream",
     "text": [
      "dict_keys(['Flavor', 'Format', '# of scoops'])\n",
      "dict_values(['Strawberry', 'Cone', 3])\n",
      "dict_items([('Flavor', 'Strawberry'), ('Format', 'Cone'), ('# of scoops', 3)])\n"
     ]
    }
   ],
   "source": [
    "x = myDict.keys()\n",
    "print(x)\n",
    "y = myDict.values()\n",
    "print(y)\n",
    "z = myDict.items()\n",
    "print(z)"
   ]
  },
  {
   "cell_type": "raw",
   "id": "240ed766",
   "metadata": {},
   "source": [
    "10. Add items in a dictionary"
   ]
  },
  {
   "cell_type": "code",
   "execution_count": 14,
   "id": "ae11f537",
   "metadata": {},
   "outputs": [
    {
     "name": "stdout",
     "output_type": "stream",
     "text": [
      "{'Flavor': 'Strawberry', 'Format': 'Cone', '# of scoops': 3, 'color': 'pink'}\n"
     ]
    }
   ],
   "source": [
    "myDict[\"color\"] = \"pink\"\n",
    "print(myDict)"
   ]
  },
  {
   "cell_type": "raw",
   "id": "47c9d3c0",
   "metadata": {},
   "source": [
    "11. Updating items"
   ]
  },
  {
   "cell_type": "code",
   "execution_count": 15,
   "id": "f213739f",
   "metadata": {},
   "outputs": [
    {
     "name": "stdout",
     "output_type": "stream",
     "text": [
      "{'Flavor': 'Strawberry', 'Format': 'cup', '# of scoops': 3, 'color': 'pink'}\n",
      "{'Flavor': 'Strawberry', 'Format': 'cup', '# of scoops': 3, 'color': 'pink', 'price': 5}\n"
     ]
    }
   ],
   "source": [
    "myDict.update({\"Format\" : \"cup\"})\n",
    "print(myDict)\n",
    "\n",
    "myDict.update({\"price\": 5})\n",
    "print(myDict)"
   ]
  },
  {
   "cell_type": "raw",
   "id": "3f6fb432",
   "metadata": {},
   "source": [
    "12. Removing an item"
   ]
  },
  {
   "cell_type": "code",
   "execution_count": 16,
   "id": "e43851c2",
   "metadata": {},
   "outputs": [
    {
     "name": "stdout",
     "output_type": "stream",
     "text": [
      "{'Flavor': 'Strawberry', 'Format': 'cup', '# of scoops': 3, 'price': 5}\n"
     ]
    }
   ],
   "source": [
    "myDict.pop(\"color\")\n",
    "print(myDict)"
   ]
  },
  {
   "cell_type": "raw",
   "id": "df2016cc",
   "metadata": {},
   "source": [
    "13. Looping the dictionary"
   ]
  },
  {
   "cell_type": "code",
   "execution_count": 18,
   "id": "9c43eb74",
   "metadata": {},
   "outputs": [
    {
     "name": "stdout",
     "output_type": "stream",
     "text": [
      "====items====\n",
      "Flavor : Strawberry\n",
      "Format : cup\n",
      "# of scoops : 3\n",
      "price : 5\n"
     ]
    }
   ],
   "source": [
    "print(\"====items====\")\n",
    "for x, y in myDict.items():\n",
    "    print(x,\":\", y)"
   ]
  },
  {
   "cell_type": "markdown",
   "id": "92b6ae58",
   "metadata": {},
   "source": [
    "# Part 2. Vector and Matrix"
   ]
  },
  {
   "cell_type": "raw",
   "id": "424619fb",
   "metadata": {},
   "source": [
    "1. Getting 2 vectors"
   ]
  },
  {
   "cell_type": "code",
   "execution_count": 5,
   "id": "0f1e1c5a",
   "metadata": {},
   "outputs": [
    {
     "name": "stdout",
     "output_type": "stream",
     "text": [
      "0    1\n",
      "1    2\n",
      "2    3\n",
      "Name: A, dtype: int64\n",
      "0    7\n",
      "1    8\n",
      "2    9\n",
      "Name: C, dtype: int64\n"
     ]
    }
   ],
   "source": [
    "import pandas as pd\n",
    "\n",
    "matrix = pd.DataFrame({\n",
    "    'A': [1, 2, 3],\n",
    "    'B': [4, 5, 6],\n",
    "    'C': [7, 8, 9],\n",
    "    'D': [10, 11, 12]\n",
    "})\n",
    "\n",
    "x1 = matrix.iloc[:, 0]\n",
    "x2 = matrix.iloc[:, -2]\n",
    "\n",
    "print(x1)\n",
    "print(x2)"
   ]
  },
  {
   "cell_type": "raw",
   "id": "81266d26",
   "metadata": {},
   "source": [
    "2. Perform operations on vectors"
   ]
  },
  {
   "cell_type": "code",
   "execution_count": 11,
   "id": "8d9eb00c",
   "metadata": {},
   "outputs": [
    {
     "name": "stdout",
     "output_type": "stream",
     "text": [
      "0     8\n",
      "1    10\n",
      "2    12\n",
      "dtype: int64\n",
      "0    6\n",
      "1    6\n",
      "2    6\n",
      "dtype: int64\n",
      "0     7\n",
      "1    16\n",
      "2    27\n",
      "dtype: int64\n",
      "50\n",
      "18.0\n",
      "10.392304845413264\n",
      "6.0\n",
      "Distance = {distance}\n"
     ]
    }
   ],
   "source": [
    "# 1. addition and subtraction\n",
    "add = x1 + x2\n",
    "print(add)\n",
    "sub = x2 - x1\n",
    "print(sub)\n",
    "\n",
    "# 2. element-wise multiplication\n",
    "mult = x1 * x2\n",
    "print(mult)\n",
    "\n",
    "# 3. inner product\n",
    "import numpy as np\n",
    "inPro = np.dot(x1, x2)\n",
    "print(inPro)\n",
    "\n",
    "# 4. three norms\n",
    "norm1 = np.linalg.norm(x1 - x2, ord=1)\n",
    "\n",
    "norm2 = np.linalg.norm(x1 - x2, ord=2)\n",
    "\n",
    "inf_norm = np.linalg.norm(x1 - x2, ord=np.inf)\n",
    "\n",
    "print(norm1)\n",
    "print(norm2)\n",
    "print(inf_norm)\n",
    "\n",
    "# 5. compute the distance between these two vectors\n",
    "distance = np.linalg.norm(x1 - x2)\n",
    "print(\"Distance = {distance}\")"
   ]
  },
  {
   "cell_type": "raw",
   "id": "83462738",
   "metadata": {},
   "source": [
    "3. Get the first three columns and the last three columns from X"
   ]
  },
  {
   "cell_type": "code",
   "execution_count": 14,
   "id": "e4603b6f",
   "metadata": {},
   "outputs": [
    {
     "name": "stdout",
     "output_type": "stream",
     "text": [
      "[[18.0 8 307.0]\n",
      " [15.0 8 350.0]\n",
      " [18.0 8 318.0]]\n",
      "[[2295 11.6 82]\n",
      " [2625 18.6 82]\n",
      " [2720 19.4 82]]\n"
     ]
    }
   ],
   "source": [
    "df = pd.read_csv('cars.csv')\n",
    "X = df.values[:, 1:-1]\n",
    "matrix1 = X[:3, :3]\n",
    "matrix2 = X[-3:, -3:]\n",
    "print(matrix1)\n",
    "print(matrix2)"
   ]
  },
  {
   "cell_type": "raw",
   "id": "5455b248",
   "metadata": {},
   "source": [
    "4. Perform operations on matrices"
   ]
  },
  {
   "cell_type": "code",
   "execution_count": 25,
   "id": "2559ca7f",
   "metadata": {},
   "outputs": [
    {
     "name": "stdout",
     "output_type": "stream",
     "text": [
      "[[2313.0 19.6 389.0]\n",
      " [2640.0 26.6 432.0]\n",
      " [2738.0 27.4 400.0]]\n",
      "[[2295 2625 2720]\n",
      " [11.6 18.6 19.4]\n",
      " [82 82 82]]\n",
      "(3, 3)\n",
      "[[903320.0 8977.4 133258.0]\n",
      " [1014115.0 10096.8 149291.0]\n",
      " [933438.0 9278.8 137658.0]]\n",
      "(3, 3)\n",
      "[[18.0 15.0 18.0]\n",
      " [8 8 8]\n",
      " [307.0 350.0 318.0]]\n",
      "(3, 3)\n",
      "[[66576.8 63217.8 67478.8]\n",
      " [72572.8 68223.8 73474.8]\n",
      " [74289.2 69655.2 75191.2]]\n",
      "(3, 3)\n"
     ]
    }
   ],
   "source": [
    "# 1. addition and subtraction \n",
    "matrix = matrix1 + matrix2\n",
    "print(matrix)\n",
    "\n",
    "# 2. compute the transpose of the second matrix: C = B^T, and print the shape of C\n",
    "transpose = np.transpose(matrix2)\n",
    "print(transpose)\n",
    "print(transpose.shape)  \n",
    "\n",
    "# 3. compute the product between A and C, and print the result and its shape\n",
    "mult = np.dot(matrix1, matrix)\n",
    "print(mult)\n",
    "print(mult.shape)\n",
    "\n",
    "# 4. compute the transpose of the first matrix: D = A^T, and print the shape of D\n",
    "transpose2 = np.transpose(matrix1)\n",
    "print(transpose2)\n",
    "print(transpose2.shape)\n",
    "\n",
    "# 5. compute the product between D and B, and print the result and its shape\n",
    "mult2 = np.dot(matrix2, transpose2)\n",
    "print(mult2)\n",
    "print(mult2.shape)"
   ]
  },
  {
   "cell_type": "raw",
   "id": "1adcdc88",
   "metadata": {},
   "source": []
  },
  {
   "cell_type": "code",
   "execution_count": null,
   "id": "dcac5732",
   "metadata": {},
   "outputs": [],
   "source": []
  },
  {
   "cell_type": "code",
   "execution_count": null,
   "id": "230ed65a",
   "metadata": {},
   "outputs": [],
   "source": []
  },
  {
   "cell_type": "code",
   "execution_count": null,
   "id": "313b7fbb",
   "metadata": {},
   "outputs": [],
   "source": []
  }
 ],
 "metadata": {
  "kernelspec": {
   "display_name": "Python 3 (ipykernel)",
   "language": "python",
   "name": "python3"
  },
  "language_info": {
   "codemirror_mode": {
    "name": "ipython",
    "version": 3
   },
   "file_extension": ".py",
   "mimetype": "text/x-python",
   "name": "python",
   "nbconvert_exporter": "python",
   "pygments_lexer": "ipython3",
   "version": "3.11.5"
  }
 },
 "nbformat": 4,
 "nbformat_minor": 5
}
